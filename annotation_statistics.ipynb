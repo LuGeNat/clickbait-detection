{
 "cells": [
  {
   "cell_type": "code",
   "execution_count": 32,
   "metadata": {
    "collapsed": true
   },
   "outputs": [],
   "source": [
    "import json\n",
    "import matplotlib.pyplot as plt\n",
    "import seaborn\n",
    "from collections import Counter\n",
    "import collections\n",
    "%matplotlib inline"
   ]
  },
  {
   "cell_type": "code",
   "execution_count": 26,
   "metadata": {
    "collapsed": false
   },
   "outputs": [
    {
     "name": "stdout",
     "output_type": "stream",
     "text": [
      "     |   2\t  3\t  4\t  5\n",
      "--------------------------------------------\n",
      "0.0  | 1196\t1438\t679\t306\n",
      "0.3  | 2838\t2882\t800\t119\n",
      "0.6  | 3029\t3055\t1044\t146\n",
      "1.0  | 1247\t977\t204\t20\n"
     ]
    },
    {
     "data": {
      "text/plain": [
       "'\\n    2 3 4 5 \\n0.0\\n0.3\\n0.6\\n1.0\\n'"
      ]
     },
     "execution_count": 26,
     "metadata": {},
     "output_type": "execute_result"
    }
   ],
   "source": [
    "annotations = []\n",
    "majority_matrix = {'0.6666666666':[0,0,0,0],'0.0':[0,0,0,0],'1.0':[0,0,0,0],'0.3333333333':[0,0,0,0]}\n",
    "\n",
    "with open(\"annotations.jsonl\", \"r\") as inf:\n",
    "    annotations = [json.loads(x) for x in inf.readlines()]\n",
    "\n",
    "for a in annotations:\n",
    "    judge = a['truthJudgments']\n",
    "    mode = a['truthMode']\n",
    "    counter = Counter(judge)\n",
    "    most_common = counter.most_common()\n",
    "    if (most_common[0][0] == mode):\n",
    "        majority_matrix[str(most_common[0][0])][(most_common[0][1])-2] += 1\n",
    "    else:\n",
    "        majority_matrix[str(most_common[1][0])][(most_common[1][1])-2] += 1\n",
    "\n",
    "print(\"     |   2\\t  3\\t  4\\t  5\")\n",
    "print(\"--------------------------------------------\")\n",
    "print(\"0.0  | \" + str(majority_matrix['0.0'][0]) + \"\\t\" + str(majority_matrix['0.0'][1])+ \"\\t\" + str(majority_matrix['0.0'][2])+ \"\\t\" + str(majority_matrix['0.0'][3]))\n",
    "print(\"0.3  | \" + str(majority_matrix['0.3333333333'][0]) + \"\\t\" + str(majority_matrix['0.3333333333'][1])+ \"\\t\" + str(majority_matrix['0.3333333333'][2])+ \"\\t\" + str(majority_matrix['0.3333333333'][3]))\n",
    "print(\"0.6  | \" + str(majority_matrix['0.6666666666'][0]) + \"\\t\" + str(majority_matrix['0.6666666666'][1])+ \"\\t\" + str(majority_matrix['0.6666666666'][2])+ \"\\t\" + str(majority_matrix['0.6666666666'][3]))\n",
    "print(\"1.0  | \" + str(majority_matrix['1.0'][0]) + \"\\t\" + str(majority_matrix['1.0'][1])+ \"\\t\" + str(majority_matrix['1.0'][2])+ \"\\t\" + str(majority_matrix['1.0'][3]))\n"
   ]
  },
  {
   "cell_type": "code",
   "execution_count": 57,
   "metadata": {
    "collapsed": false
   },
   "outputs": [
    {
     "data": {
      "text/plain": [
       "<matplotlib.legend.Legend at 0x7f339d05fb70>"
      ]
     },
     "execution_count": 57,
     "metadata": {},
     "output_type": "execute_result"
    },
    {
     "data": {
      "image/png": "[encoded data removed]",
      "text/plain": [
       "<matplotlib.figure.Figure at 0x7f339d034f98>"
      ]
     },
     "metadata": {},
     "output_type": "display_data"
    }
   ],
   "source": [
    "# plot mean\n",
    "y_major_all = {}\n",
    "y_major_3 = {}\n",
    "y_major_4 = {}\n",
    "y_major_5 = {}\n",
    "\n",
    "for a in annotations:\n",
    "    mean = str(round(a['truthMean'], 5))[:6]\n",
    "    most_common = Counter(a['truthJudgments']).most_common(1)\n",
    "    try:\n",
    "        y_major_all[mean] += 1\n",
    "    except:\n",
    "        y_major_all[mean] = 1\n",
    "    if most_common[0][1] > 2:\n",
    "        try:\n",
    "            y_major_3[mean] += 1\n",
    "        except:\n",
    "            y_major_3[mean] = 1\n",
    "    if most_common[0][1] > 3:\n",
    "        try:\n",
    "            y_major_4[mean] += 1\n",
    "        except:\n",
    "            y_major_4[mean] = 1\n",
    "    if most_common[0][1] > 4:\n",
    "        try:\n",
    "            y_major_5[mean] += 1\n",
    "        except:\n",
    "            y_major_5[mean] = 1\n",
    "\n",
    "ordered_all = collections.OrderedDict(sorted(y_major_all.items()))\n",
    "plt.plot(list(ordered_all.keys()), list(ordered_all.values()), label=\"all\")\n",
    "\n",
    "ordered_3 = collections.OrderedDict(sorted(y_major_3.items()))\n",
    "plt.plot(list(ordered_3.keys()), list(ordered_3.values()), label=\"3+\")\n",
    "\n",
    "ordered_4 = collections.OrderedDict(sorted(y_major_4.items()))\n",
    "plt.plot(list(ordered_4.keys()), list(ordered_4.values()), label=\"4+\")\n",
    "\n",
    "ordered_5 = collections.OrderedDict(sorted(y_major_5.items()))\n",
    "plt.plot(list(ordered_5.keys()), list(ordered_5.values()), label=\"5+\")\n",
    "\n",
    "plt.legend()"
   ]
  }
 ],
 "metadata": {
  "kernelspec": {
   "display_name": "Python 3",
   "language": "python",
   "name": "python3"
  },
  "language_info": {
   "codemirror_mode": {
    "name": "ipython",
    "version": 3
   },
   "file_extension": ".py",
   "mimetype": "text/x-python",
   "name": "python",
   "nbconvert_exporter": "python",
   "pygments_lexer": "ipython3",
   "version": "3.5.2"
  }
 },
 "nbformat": 4,
 "nbformat_minor": 2
}
