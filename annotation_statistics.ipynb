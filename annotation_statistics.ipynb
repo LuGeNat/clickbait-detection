{
 "cells": [
  {
   "cell_type": "code",
   "execution_count": 1,
   "metadata": {
    "collapsed": false,
    "deletable": true,
    "editable": true
   },
   "outputs": [],
   "source": [
    "import json\n",
    "import matplotlib.pyplot as plt\n",
    "import seaborn\n",
    "import numpy as np\n",
    "from collections import Counter\n",
    "import collections\n",
    "%matplotlib inline"
   ]
  },
  {
   "cell_type": "code",
   "execution_count": 30,
   "metadata": {
    "collapsed": false,
    "deletable": true,
    "editable": true
   },
   "outputs": [
    {
     "name": "stdout",
     "output_type": "stream",
     "text": [
      "     |   2\t  3\t  4\t  5\n",
      "--------------------------------------------\n",
      "0.0  | 1182\t1430\t673\t304\n",
      "0.3  | 2815\t2852\t799\t118\n",
      "0.6  | 3008\t3040\t1037\t145\n",
      "1.0  | 1235\t967\t204\t20\n"
     ]
    }
   ],
   "source": [
    "# majority matrix absolute, new dataset\n",
    "annotations_new = []\n",
    "majority_matrix = {'0.6':[0,0,0,0],'0.0':[0,0,0,0],'1.0':[0,0,0,0],'0.3':[0,0,0,0]}\n",
    "\n",
    "with open(\"clickbait17-validation-170616/truth.jsonl\", \"r\") as inf:\n",
    "    annotations_new = [json.loads(x) for x in inf.readlines()]\n",
    "\n",
    "for a in annotations_new:\n",
    "    judge = a['truthJudgments']\n",
    "    mode = a['truthMode']\n",
    "    counter = Counter(judge)\n",
    "    most_common = counter.most_common()\n",
    "    if (most_common[0][0] == mode):\n",
    "        majority_matrix[str(most_common[0][0])[:3]][(most_common[0][1])-2] += 1\n",
    "    else:\n",
    "        majority_matrix[str(most_common[1][0])[:3]][(most_common[1][1])-2] += 1\n",
    "\n",
    "print(\"     |   2\\t  3\\t  4\\t  5\")\n",
    "print(\"--------------------------------------------\")\n",
    "print(\"0.0  | \" + str(majority_matrix['0.0'][0]) + \"\\t\" + str(majority_matrix['0.0'][1])+ \"\\t\" + str(majority_matrix['0.0'][2])+ \"\\t\" + str(majority_matrix['0.0'][3]))\n",
    "print(\"0.3  | \" + str(majority_matrix['0.3'][0]) + \"\\t\" + str(majority_matrix['0.3'][1])+ \"\\t\" + str(majority_matrix['0.3'][2])+ \"\\t\" + str(majority_matrix['0.3'][3]))\n",
    "print(\"0.6  | \" + str(majority_matrix['0.6'][0]) + \"\\t\" + str(majority_matrix['0.6'][1])+ \"\\t\" + str(majority_matrix['0.6'][2])+ \"\\t\" + str(majority_matrix['0.6'][3]))\n",
    "print(\"1.0  | \" + str(majority_matrix['1.0'][0]) + \"\\t\" + str(majority_matrix['1.0'][1])+ \"\\t\" + str(majority_matrix['1.0'][2])+ \"\\t\" + str(majority_matrix['1.0'][3]))\n"
   ]
  },
  {
   "cell_type": "code",
   "execution_count": 3,
   "metadata": {
    "collapsed": false,
    "deletable": true,
    "editable": true,
    "scrolled": true
   },
   "outputs": [
    {
     "name": "stdout",
     "output_type": "stream",
     "text": [
      "     |   2\t  3\t  4\t  5+\n",
      "--------------------------------------------\n",
      "0.0  | 0\t0\t0\t1761\n",
      "0.3  | 0\t0\t0\t408\n",
      "0.6  | 0\t0\t0\t344\n",
      "1.0  | 0\t0\t0\t479\n"
     ]
    }
   ],
   "source": [
    "# majority matrix absolute, old dataset\n",
    "annotations_old = []\n",
    "majority_matrix = {'0.6':[0,0,0,0],'0.0':[0,0,0,0],'1.0':[0,0,0,0],'0.3':[0,0,0,0]}\n",
    "\n",
    "with open(\"old_reject.jsonl\", \"r\") as inf:\n",
    "    annotations_old = [json.loads(x) for x in inf.readlines()]\n",
    "\n",
    "for a in annotations_old:\n",
    "    judge = a['truthJudgments']\n",
    "    mode = a['truthMode']\n",
    "    counter = Counter(judge)\n",
    "    most_common = counter.most_common()\n",
    "    if (most_common[0][0] == mode):\n",
    "        majority_matrix[str(most_common[0][0])[:3]][max(most_common[0][1], 5)-2] += 1\n",
    "    else:\n",
    "        majority_matrix[str(most_common[1][0])[:3]][max(most_common[1][1], 5)-2] += 1\n",
    "\n",
    "print(\"     |   2\\t  3\\t  4\\t  5+\")\n",
    "print(\"--------------------------------------------\")\n",
    "print(\"0.0  | \" + str(majority_matrix['0.0'][0]) + \"\\t\" + str(majority_matrix['0.0'][1])+ \"\\t\" + str(majority_matrix['0.0'][2])+ \"\\t\" + str(majority_matrix['0.0'][3]))\n",
    "print(\"0.3  | \" + str(majority_matrix['0.3'][0]) + \"\\t\" + str(majority_matrix['0.3'][1])+ \"\\t\" + str(majority_matrix['0.3'][2])+ \"\\t\" + str(majority_matrix['0.3'][3]))\n",
    "print(\"0.6  | \" + str(majority_matrix['0.6'][0]) + \"\\t\" + str(majority_matrix['0.6'][1])+ \"\\t\" + str(majority_matrix['0.6'][2])+ \"\\t\" + str(majority_matrix['0.6'][3]))\n",
    "print(\"1.0  | \" + str(majority_matrix['1.0'][0]) + \"\\t\" + str(majority_matrix['1.0'][1])+ \"\\t\" + str(majority_matrix['1.0'][2])+ \"\\t\" + str(majority_matrix['1.0'][3]))\n"
   ]
  },
  {
   "cell_type": "code",
   "execution_count": 4,
   "metadata": {
    "collapsed": false,
    "deletable": true,
    "editable": true
   },
   "outputs": [
    {
     "data": {
      "text/plain": [
       "<matplotlib.legend.Legend at 0x7f1231a22588>"
      ]
     },
     "execution_count": 4,
     "metadata": {},
     "output_type": "execute_result"
    },
    {
     "data": {
      "image/png": "[encoded data removed]",
      "text/plain": [
       "<matplotlib.figure.Figure at 0x7f1231aacc88>"
      ]
     },
     "metadata": {},
     "output_type": "display_data"
    }
   ],
   "source": [
    "# plot mean new dataset\n",
    "y_major = [{},{},{},{}]\n",
    "y_major_all = {}\n",
    "y_major_3 = {}\n",
    "y_major_4 = {}\n",
    "y_major_5 = {}\n",
    "\n",
    "for a in annotations_new:\n",
    "    mean = str(round(a['truthMean'], 5))[:6]\n",
    "    most_common = Counter(a['truthJudgments']).most_common(1)\n",
    "    for di in y_major:\n",
    "        try:\n",
    "            di[mean] = di[mean]\n",
    "        except KeyError:\n",
    "            di[mean] = 0\n",
    "    \n",
    "    y_major[0][mean] += 1\n",
    "    if most_common[0][1] > 2:\n",
    "        y_major[1][mean] += 1\n",
    "    if most_common[0][1] > 3:\n",
    "        y_major[2][mean] += 1\n",
    "    if most_common[0][1] > 4:\n",
    "        y_major[3][mean] += 1\n",
    "\n",
    "\n",
    "ordered_all = collections.OrderedDict(sorted(y_major[0].items()))  \n",
    "ordered_3 = collections.OrderedDict(sorted(y_major[1].items()))\n",
    "ordered_4 = collections.OrderedDict(sorted(y_major[2].items()))\n",
    "ordered_5 = collections.OrderedDict(sorted(y_major[3].items()))\n",
    "\n",
    "\n",
    "# Area chart\n",
    "plt.fill_between([float(x) for x in ordered_5.keys()], 0, list(ordered_5.values()), label=\"5\")\n",
    "plt.fill_between([float(x) for x in ordered_4.keys()], list(ordered_5.values()), list(ordered_4.values()), label=\"4+\")\n",
    "plt.fill_between([float(x) for x in ordered_3.keys()], list(ordered_4.values()), list(ordered_3.values()), label=\"3+\")\n",
    "plt.fill_between([float(x) for x in ordered_all.keys()], list(ordered_3.values()), list(ordered_all.values()), label=\"all\")\n",
    "\n",
    "''' Line graph\n",
    "plt.plot([float(x) for x in ordered_5.keys()], list(ordered_5.values()), label=\"5\")\n",
    "plt.plot([float(x) for x in ordered_4.keys()], list(ordered_4.values()), label=\"4+\")\n",
    "plt.plot([float(x) for x in ordered_3.keys()], list(ordered_3.values()), label=\"3+\")\n",
    "plt.plot([float(x) for x in ordered_all.keys()], list(ordered_all.values()), label=\"all\")\n",
    "'''\n",
    "\n",
    "plt.legend()"
   ]
  },
  {
   "cell_type": "code",
   "execution_count": 95,
   "metadata": {
    "collapsed": false,
    "deletable": true,
    "editable": true
   },
   "outputs": [
    {
     "data": {
      "text/plain": [
       "<matplotlib.legend.Legend at 0x7f1331c021d0>"
      ]
     },
     "execution_count": 95,
     "metadata": {},
     "output_type": "execute_result"
    },
    {
     "data": {
      "image/png": "[encoded data removed]",
      "text/plain": [
       "<matplotlib.figure.Figure at 0x7f13313af6d8>"
      ]
     },
     "metadata": {},
     "output_type": "display_data"
    }
   ],
   "source": [
    "# plot mean old dataset\n",
    "y_major = [{},{},{},{}]\n",
    "y_major_all = {}\n",
    "y_major_3 = {}\n",
    "y_major_4 = {}\n",
    "y_major_5 = {}\n",
    "\n",
    "for a in annotations_old:\n",
    "    mean = str(round(a['truthMean'], 5))[:5]\n",
    "    most_common = Counter(a['truthJudgments']).most_common(1)\n",
    "    for di in y_major:\n",
    "        try:\n",
    "            di[mean] = di[mean]\n",
    "        except KeyError:\n",
    "            di[mean] = 0\n",
    "    \n",
    "    y_major[0][mean] += 1\n",
    "    if most_common[0][1] > 2:\n",
    "        y_major[1][mean] += 1\n",
    "    if most_common[0][1] > 3:\n",
    "        y_major[2][mean] += 1\n",
    "    if most_common[0][1] > 4:\n",
    "        y_major[3][mean] += 1\n",
    "\n",
    "\n",
    "ordered_all = collections.OrderedDict(sorted(y_major[0].items()))  \n",
    "ordered_3 = collections.OrderedDict(sorted(y_major[1].items()))\n",
    "ordered_4 = collections.OrderedDict(sorted(y_major[2].items()))\n",
    "ordered_5 = collections.OrderedDict(sorted(y_major[3].items()))\n",
    "\n",
    "\n",
    "# Area chart\n",
    "plt.fill_between([float(x) for x in ordered_5.keys()], 0, list(ordered_5.values()), label=\"5\")\n",
    "plt.fill_between([float(x) for x in ordered_4.keys()], list(ordered_5.values()), list(ordered_4.values()), label=\"4+\")\n",
    "plt.fill_between([float(x) for x in ordered_3.keys()], list(ordered_4.values()), list(ordered_3.values()), label=\"3+\")\n",
    "plt.fill_between([float(x) for x in ordered_all.keys()], list(ordered_3.values()), list(ordered_all.values()), label=\"all\")\n",
    "\n",
    "''' Line graph\n",
    "plt.plot([float(x) for x in ordered_5.keys()], list(ordered_5.values()), label=\"5\")\n",
    "plt.plot([float(x) for x in ordered_4.keys()], list(ordered_4.values()), label=\"4+\")\n",
    "plt.plot([float(x) for x in ordered_3.keys()], list(ordered_3.values()), label=\"3+\")\n",
    "plt.plot([float(x) for x in ordered_all.keys()], list(ordered_all.values()), label=\"all\")\n",
    "'''\n",
    "\n",
    "plt.legend()"
   ]
  },
  {
   "cell_type": "code",
   "execution_count": 57,
   "metadata": {
    "collapsed": false,
    "deletable": true,
    "editable": true
   },
   "outputs": [
    {
     "name": "stdout",
     "output_type": "stream",
     "text": [
      "56\n",
      "OrderedDict([('[0.0, 0.0, 0.0, 0.0, 0.0]', 306), ('[0.3333333333, 0.0, 0.0, 0.0, 0.0]', 369), ('[0.3333333333, 0.3333333333, 0.0, 0.0, 0.0]', 348), ('[0.3333333333, 0.3333333333, 0.3333333333, 0.0, 0.0]', 287), ('[0.3333333333, 0.3333333333, 0.3333333333, 0.3333333333, 0.0]', 224), ('[0.3333333333, 0.3333333333, 0.3333333333, 0.3333333333, 0.3333333333]', 119), ('[0.6666666666, 0.0, 0.0, 0.0, 0.0]', 227), ('[0.6666666666, 0.3333333333, 0.0, 0.0, 0.0]', 483), ('[0.6666666666, 0.3333333333, 0.3333333333, 0.0, 0.0]', 622), ('[0.6666666666, 0.3333333333, 0.3333333333, 0.3333333333, 0.0]', 694), ('[0.6666666666, 0.3333333333, 0.3333333333, 0.3333333333, 0.3333333333]', 384), ('[0.6666666666, 0.6666666666, 0.0, 0.0, 0.0]', 189), ('[0.6666666666, 0.6666666666, 0.3333333333, 0.0, 0.0]', 562), ('[0.6666666666, 0.6666666666, 0.3333333333, 0.3333333333, 0.0]', 845), ('[0.6666666666, 0.6666666666, 0.3333333333, 0.3333333333, 0.3333333333]', 698), ('[0.6666666666, 0.6666666666, 0.6666666666, 0.0, 0.0]', 181), ('[0.6666666666, 0.6666666666, 0.6666666666, 0.3333333333, 0.0]', 647), ('[0.6666666666, 0.6666666666, 0.6666666666, 0.3333333333, 0.3333333333]', 717), ('[0.6666666666, 0.6666666666, 0.6666666666, 0.6666666666, 0.0]', 244), ('[0.6666666666, 0.6666666666, 0.6666666666, 0.6666666666, 0.3333333333]', 503), ('[0.6666666666, 0.6666666666, 0.6666666666, 0.6666666666, 0.6666666666]', 146), ('[1.0, 0.0, 0.0, 0.0, 0.0]', 83), ('[1.0, 0.3333333333, 0.0, 0.0, 0.0]', 191), ('[1.0, 0.3333333333, 0.3333333333, 0.0, 0.0]', 318), ('[1.0, 0.3333333333, 0.3333333333, 0.3333333333, 0.0]', 291), ('[1.0, 0.3333333333, 0.3333333333, 0.3333333333, 0.3333333333]', 192), ('[1.0, 0.6666666666, 0.0, 0.0, 0.0]', 167), ('[1.0, 0.6666666666, 0.3333333333, 0.0, 0.0]', 488), ('[1.0, 0.6666666666, 0.3333333333, 0.3333333333, 0.0]', 818), ('[1.0, 0.6666666666, 0.3333333333, 0.3333333333, 0.3333333333]', 701), ('[1.0, 0.6666666666, 0.6666666666, 0.0, 0.0]', 216), ('[1.0, 0.6666666666, 0.6666666666, 0.3333333333, 0.0]', 846), ('[1.0, 0.6666666666, 0.6666666666, 0.3333333333, 0.3333333333]', 976), ('[1.0, 0.6666666666, 0.6666666666, 0.6666666666, 0.0]', 348), ('[1.0, 0.6666666666, 0.6666666666, 0.6666666666, 0.3333333333]', 875), ('[1.0, 0.6666666666, 0.6666666666, 0.6666666666, 0.6666666666]', 297), ('[1.0, 1.0, 0.0, 0.0, 0.0]', 60), ('[1.0, 1.0, 0.3333333333, 0.0, 0.0]', 146), ('[1.0, 1.0, 0.3333333333, 0.3333333333, 0.0]', 235), ('[1.0, 1.0, 0.3333333333, 0.3333333333, 0.3333333333]', 211), ('[1.0, 1.0, 0.6666666666, 0.0, 0.0]', 129), ('[1.0, 1.0, 0.6666666666, 0.3333333333, 0.0]', 514), ('[1.0, 1.0, 0.6666666666, 0.3333333333, 0.3333333333]', 604), ('[1.0, 1.0, 0.6666666666, 0.6666666666, 0.0]', 281), ('[1.0, 1.0, 0.6666666666, 0.6666666666, 0.3333333333]', 710), ('[1.0, 1.0, 0.6666666666, 0.6666666666, 0.6666666666]', 287), ('[1.0, 1.0, 1.0, 0.0, 0.0]', 38), ('[1.0, 1.0, 1.0, 0.3333333333, 0.0]', 135), ('[1.0, 1.0, 1.0, 0.3333333333, 0.3333333333]', 146), ('[1.0, 1.0, 1.0, 0.6666666666, 0.0]', 128), ('[1.0, 1.0, 1.0, 0.6666666666, 0.3333333333]', 326), ('[1.0, 1.0, 1.0, 0.6666666666, 0.6666666666]', 204), ('[1.0, 1.0, 1.0, 1.0, 0.0]', 35), ('[1.0, 1.0, 1.0, 1.0, 0.3333333333]', 76), ('[1.0, 1.0, 1.0, 1.0, 0.6666666666]', 93), ('[1.0, 1.0, 1.0, 1.0, 1.0]', 20)])\n"
     ]
    },
    {
     "data": {
      "text/plain": [
       "[<matplotlib.lines.Line2D at 0x7f1332fa1470>]"
      ]
     },
     "execution_count": 57,
     "metadata": {},
     "output_type": "execute_result"
    },
    {
     "data": {
      "image/png": "[encoded data removed]",
      "text/plain": [
       "<matplotlib.figure.Figure at 0x7f1332ca7358>"
      ]
     },
     "metadata": {},
     "output_type": "display_data"
    }
   ],
   "source": [
    "# majority classes new dataset\n",
    "anno_new_perm = {}\n",
    "\n",
    "# want: each permutation of judgments: put nr. occurance in matrix, maybe heatmap\n",
    "\n",
    "for a in annotations_new:\n",
    "    try:\n",
    "        anno_new_perm[str(sorted(a['truthJudgments'], reverse=True))] += 1\n",
    "    except KeyError:\n",
    "        anno_new_perm[str(sorted(a['truthJudgments'], reverse=True))] = 1\n",
    "\n",
    "print(len(anno_new_perm.keys()))\n",
    "print(collections.OrderedDict(sorted(anno_new_perm.items())))\n",
    "'''\n",
    "class: split:\n",
    "    >=2,x,x,>=2\n",
    "class: downwards:\n",
    "    5,xxx\n",
    "    4xx0\n",
    "    3xx<1\n",
    "    2111\n",
    "class: upwards\n",
    "class: spike:\n",
    "    \n",
    "'''\n",
    "fig = plt.figure(1)\n",
    "ax1 = fig.add_subplot(321)\n",
    "ax1.plot([0,1,2,3])\n",
    "\n",
    "ax2 = fig.add_subplot(322)\n",
    "ax2.plot([3,2,1,0])\n",
    "\n",
    "ax3 = fig.add_subplot(323)\n",
    "ax3.plot([3,2,1,0])\n",
    "\n",
    "ax4 = fig.add_subplot(324)\n",
    "ax4.plot([3,2,1,0])\n",
    "\n",
    "ax5 = fig.add_subplot(325)\n",
    "ax5.plot([3,2,1,0])\n",
    "\n",
    "ax6 = fig.add_subplot(326)\n",
    "ax6.plot([3,2,1,0])\n",
    "\n",
    "# find typical classes (plot): triangles of how majorities split, scatterplot"
   ]
  },
  {
   "cell_type": "code",
   "execution_count": 39,
   "metadata": {
    "collapsed": false
   },
   "outputs": [
    {
     "name": "stdout",
     "output_type": "stream",
     "text": [
      "19829\n",
      "1.0, 2426\n",
      "0.0, 3589\n",
      "0.6666666666, 7230\n",
      "0.3333333333, 6584\n",
      "19829\n"
     ]
    },
    {
     "data": {
      "text/plain": [
       "<matplotlib.legend.Legend at 0x7f1230ea80f0>"
      ]
     },
     "execution_count": 39,
     "metadata": {},
     "output_type": "execute_result"
    },
    {
     "data": {
      "image/png": "[encoded data removed]",
      "text/plain": [
       "<matplotlib.figure.Figure at 0x7f1230ee4be0>"
      ]
     },
     "metadata": {},
     "output_type": "display_data"
    }
   ],
   "source": [
    "# stacked bar chart of mode distributions\n",
    "'''\n",
    "%total\n",
    "\n",
    "        0.0  0.3  0.6  1.0\n",
    "'''\n",
    "y_major = {}\n",
    "for a in annotations_new:\n",
    "    mode = a['truthMode']\n",
    "    majority = Counter(a['truthJudgments'])[a['truthMode']]\n",
    "    try:\n",
    "        y_major[str(a['truthMode'])][str(majority)] += 1\n",
    "        y_major[str(a['truthMode'])]['total'] += 1\n",
    "    except KeyError:\n",
    "        y_major[str(a['truthMode'])] = {'2': 0, '3': 0, '4': 0,'5': 0, 'total': 0}\n",
    "        y_major[str(a['truthMode'])][str(majority)] += 1\n",
    "        y_major[str(a['truthMode'])]['total'] += 1\n",
    "\n",
    "total_tweets = len(annotations_new)\n",
    "print(total_tweets)\n",
    "sum = 0\n",
    "for modes in y_major:\n",
    "    sum += y_major[modes]['total'] \n",
    "    print(modes + \", \" + str(y_major[modes]['total']))\n",
    "\n",
    "print(sum)\n",
    "    \n",
    "x = [0.0, 0.33, 0.66, 1.0]\n",
    "    \n",
    "y_5 = [y_major['0.0']['5'], y_major['0.3333333333']['5'], y_major['0.6666666666']['5'], y_major['1.0']['5']]\n",
    "y_4 = [y_major['0.0']['4'], y_major['0.3333333333']['4'], y_major['0.6666666666']['4'], y_major['1.0']['4']]\n",
    "y_3 = [y_major['0.0']['3'], y_major['0.3333333333']['3'], y_major['0.6666666666']['3'], y_major['1.0']['3']]\n",
    "y_2 = [y_major['0.0']['2'], y_major['0.3333333333']['2'], y_major['0.6666666666']['2'], y_major['1.0']['2']]\n",
    "\n",
    "width = 0.2       # the width of the bars: can also be len(x) sequence\n",
    "\n",
    "p1 = plt.bar(x, y_5, width)\n",
    "p2 = plt.bar(x, y_4, width, bottom=y_5)\n",
    "\n",
    "tmp_y4 = [x+y for (x, y) in zip(y_5, y_4)]\n",
    "p3 = plt.bar(x, y_3, width, bottom=tmp_y4)\n",
    "\n",
    "tmp_y3 = [x+y for (x, y) in zip(tmp_y4, y_3)]\n",
    "p4 = plt.bar(x, y_2, width, bottom=tmp_y3)\n",
    "\n",
    "plt.title('mode distribution by majority')\n",
    "\n",
    "plt.ylabel('number of tweets')\n",
    "plt.xlabel('mode')\n",
    "plt.xticks(x, ('0.0', '0.33', '0.66', '1.0'))\n",
    "plt.yticks(np.arange(0, 8000, 1000))\n",
    "plt.legend((p1[0], p2[0], p3[0], p4[0]), ('5', '4', '3', '2'))"
   ]
  },
  {
   "cell_type": "code",
   "execution_count": 70,
   "metadata": {
    "collapsed": false
   },
   "outputs": [
    {
     "data": {
      "text/plain": [
       "'\\nax1 = fig.add_subplot(331)\\nax1.bar([1,2,3,4], [1, -1, 2, -2])\\n\\nax2 = fig.add_subplot(332)\\nax2.bar([1,2,3,4], [1, -1, 2, -2])\\n\\nax3 = fig.add_subplot(333)\\nax3.bar([1,2,3,4], [1, -1, 2, -2])\\n\\nax4 = fig.add_subplot(334)\\nax4.bar([1,2,3,4], [1, -1, 2, -2])\\n\\nax5 = fig.add_subplot(335)\\nax5.bar([1,2,3,4], [1, -1, 2, -2])\\n\\nax6 = fig.add_subplot(336)\\nax6.bar([1,2,3,4], [1, -1, 2, -2])\\n\\nax7 = fig.add_subplot(337)\\nax7.bar([1,2,3,4], [1, -1, 2, -2])\\n\\nax8 = fig.add_subplot(338)\\nax8.bar([1,2,3,4], [1, -1, 2, -2])\\n\\nax9 = fig.add_subplot(339)\\nax9.bar([1,2,3,4], [1, -1, 2, -2])\\nplt.ylim([-3,3])'"
      ]
     },
     "execution_count": 70,
     "metadata": {},
     "output_type": "execute_result"
    },
    {
     "data": {
      "image/png": "[encoded data removed]",
      "text/plain": [
       "<matplotlib.figure.Figure at 0x7f1226f2a908>"
      ]
     },
     "metadata": {},
     "output_type": "display_data"
    }
   ],
   "source": [
    "with open(\"clickbait17-validation-170616/truth.jsonl\", \"r\") as inf:\n",
    "    annotations_new = [json.loads(x) for x in inf.readlines()]\n",
    "\n",
    "with open(\"id_pub_dict.jsonl\", \"r\") as inf:\n",
    "    id_pub_list = [json.loads(x) for x in inf.readlines()]\n",
    "\n",
    "id_pub_dict = {}\n",
    "for i in id_pub_list:\n",
    "    try:\n",
    "        id_pub_dict[i['pub']].append(i['id'])\n",
    "    except:\n",
    "        id_pub_dict[i['pub']] = []\n",
    "        id_pub_dict[i['pub']].append(i['id'])\n",
    "\n",
    "fig = plt.figure(1)\n",
    "index = 1\n",
    "id_mode_dict = {}\n",
    "mode_counter_total = {'0.0': 0, '0.3333333333': 0, '0.6666666666': 0, '1.0': 0}\n",
    "\n",
    "for a in annotations_new:\n",
    "    id_mode_dict[a['id']] = a['truthMode']\n",
    "    mode_counter_total[str(a['truthMode'])] += 1\n",
    "    \n",
    "mode_counter_average = {'0.0': mode_counter_total['0.0']/27, \n",
    "                        '0.3333333333': mode_counter_total['0.3333333333']/27, \n",
    "                        '0.6666666666': mode_counter_total['0.6666666666']/27, \n",
    "                        '1.0': mode_counter_total['1.0']/27}\n",
    "\n",
    "    \n",
    "for key, value in id_pub_dict.items():\n",
    "    mode_counter = {'0.0': 0, '0.3333333333': 0, '0.6666666666': 0, '1.0': 0}\n",
    "    for v in value:\n",
    "        mode_counter[str(id_mode_dict[str(v)])] += 1\n",
    "    tmp = fig.add_subplot(9,3,index)\n",
    "    tmp.bar([0.0, 0.33, 0.66, 1.0], [mode_counter_average['0.0'] - mode_counter['0.0'], \n",
    "                                     mode_counter_average['0.3333333333'] - mode_counter['0.3333333333'], \n",
    "                                     mode_counter_average['0.6666666666'] - mode_counter['0.6666666666'], \n",
    "                                     mode_counter_average['1.0'] - mode_counter['1.0']], width=0.1)\n",
    "    tmp.set_ylim(-50,50,10)\n",
    "    index += 1\n",
    "    \n",
    "\n",
    "        \n",
    "'''\n",
    "ax1 = fig.add_subplot(331)\n",
    "ax1.bar([1,2,3,4], [1, -1, 2, -2])\n",
    "\n",
    "ax2 = fig.add_subplot(332)\n",
    "ax2.bar([1,2,3,4], [1, -1, 2, -2])\n",
    "\n",
    "ax3 = fig.add_subplot(333)\n",
    "ax3.bar([1,2,3,4], [1, -1, 2, -2])\n",
    "\n",
    "ax4 = fig.add_subplot(334)\n",
    "ax4.bar([1,2,3,4], [1, -1, 2, -2])\n",
    "\n",
    "ax5 = fig.add_subplot(335)\n",
    "ax5.bar([1,2,3,4], [1, -1, 2, -2])\n",
    "\n",
    "ax6 = fig.add_subplot(336)\n",
    "ax6.bar([1,2,3,4], [1, -1, 2, -2])\n",
    "\n",
    "ax7 = fig.add_subplot(337)\n",
    "ax7.bar([1,2,3,4], [1, -1, 2, -2])\n",
    "\n",
    "ax8 = fig.add_subplot(338)\n",
    "ax8.bar([1,2,3,4], [1, -1, 2, -2])\n",
    "\n",
    "ax9 = fig.add_subplot(339)\n",
    "ax9.bar([1,2,3,4], [1, -1, 2, -2])\n",
    "plt.ylim([-3,3])'''"
   ]
  }
 ],
 "metadata": {
  "kernelspec": {
   "display_name": "Python 3",
   "language": "python",
   "name": "python3"
  },
  "language_info": {
   "codemirror_mode": {
    "name": "ipython",
    "version": 3
   },
   "file_extension": ".py",
   "mimetype": "text/x-python",
   "name": "python",
   "nbconvert_exporter": "python",
   "pygments_lexer": "ipython3",
   "version": "3.5.2"
  }
 },
 "nbformat": 4,
 "nbformat_minor": 2
}
