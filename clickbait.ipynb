{
 "cells": [
  {
   "cell_type": "code",
   "execution_count": 2,
   "metadata": {
    "collapsed": true,
    "deletable": true,
    "editable": true
   },
   "outputs": [],
   "source": [
    "import json\n",
    "import matplotlib.pyplot as plt\n",
    "import numpy\n",
    "import math\n",
    "import seaborn\n",
    "%matplotlib inline\n",
    "\n",
    "plt.style.use('ggplot')"
   ]
  },
  {
   "cell_type": "code",
   "execution_count": 3,
   "metadata": {
    "collapsed": true,
    "deletable": true,
    "editable": true
   },
   "outputs": [],
   "source": [
    "INSTANCES_FILE = \"clickbait17-train-170331/instances.jsonl\"\n",
    "TRUTH_FILE     = \"clickbait17-train-170331/truth.jsonl\""
   ]
  },
  {
   "cell_type": "code",
   "execution_count": 4,
   "metadata": {
    "collapsed": true,
    "deletable": true,
    "editable": true
   },
   "outputs": [],
   "source": [
    "# read thr data from files\n",
    "import json\n",
    "instances = []\n",
    "truth = []\n",
    "\n",
    "with open(INSTANCES_FILE, \"r\") as inf:\n",
    "    instances = [json.loads(x) for x in inf.readlines()]\n",
    "with open(TRUTH_FILE, \"r\") as inf:\n",
    "    truth = [json.loads(x) for x in inf.readlines()]"
   ]
  },
  {
   "cell_type": "code",
   "execution_count": 5,
   "metadata": {
    "collapsed": true,
    "deletable": true,
    "editable": true
   },
   "outputs": [],
   "source": [
    "# compact relevant data into one list of dicts\n",
    "dataset = {}\n",
    "\n",
    "# lists: postText, targetParagraphs, targetCaptions\n",
    "for i in instances:\n",
    "    dataset[i['id']] = {'postText': i['postText'], 'targetTitle': i['targetTitle'],\n",
    "                        'targetDescription': i['targetDescription'], 'targetKeywords': i['targetKeywords'], \n",
    "                        'targetParagraphs': i['targetParagraphs'], 'targetCaptions': i['targetCaptions']}\n",
    "\n",
    "for t in truth:\n",
    "    dataset[t['id']]['truthMean'] = t['truthMean']\n",
    "\n",
    "# print(list(dataset.keys())[0])\n",
    "# print(dataset[list(dataset.keys())[0]])"
   ]
  },
  {
   "cell_type": "code",
   "execution_count": 6,
   "metadata": {
    "collapsed": true,
    "deletable": true,
    "editable": true
   },
   "outputs": [],
   "source": [
    "# get list of scores and a list of the postTexts\n",
    "cb_id_list = numpy.fromiter(iter(dataset.keys()), dtype=numpy.int64)\n",
    "cb_scores_list = []\n",
    "cb_feat_postText = []\n",
    "\n",
    "for i in cb_id_list:\n",
    "    cb_feat_postText.append(dataset[str(i)]['postText'][0])\n",
    "    cb_scores_list.append(dataset[str(i)]['truthMean'])\n",
    "\n",
    "cb_scores = numpy.asarray(cb_scores_list)"
   ]
  },
  {
   "cell_type": "code",
   "execution_count": 8,
   "metadata": {
    "collapsed": false,
    "deletable": true,
    "editable": true
   },
   "outputs": [
    {
     "name": "stdout",
     "output_type": "stream",
     "text": [
      "showing info https://raw.githubusercontent.com/nltk/nltk_data/gh-pages/index.xml\n"
     ]
    },
    {
     "data": {
      "text/plain": [
       "True"
      ]
     },
     "execution_count": 8,
     "metadata": {},
     "output_type": "execute_result"
    }
   ],
   "source": [
    "from nltk import download\n",
    "download()"
   ]
  },
  {
   "cell_type": "code",
   "execution_count": 30,
   "metadata": {
    "collapsed": false,
    "deletable": true,
    "editable": true
   },
   "outputs": [],
   "source": [
    "# sanitize text with nltk\n",
    "from nltk.stem.wordnet import WordNetLemmatizer\n",
    "from nltk import word_tokenize\n",
    "from nltk.tokenize import TweetTokenizer\n",
    "import string\n",
    "\n",
    "lemmatizer = WordNetLemmatizer()\n",
    "tknzr = TweetTokenizer(strip_handles=True, reduce_len=True)\n",
    "punctuation = string.punctuation\n",
    "\n",
    "def preprocess_tokenize(text):\n",
    "    for token in tokenize(text):\n",
    "        token = preprocess(token)\n",
    "        yield token\n",
    "\n",
    "def tokenize(text):\n",
    "    return [token for token in tknzr.tokenize(text)] # if token not in string.punctuation]\n",
    "            \n",
    "def preprocess(string):\n",
    "    string = string.lower()\n",
    "    string = lemmatizer.lemmatize(string)\n",
    "    if string.endswith(\"'s\"):\n",
    "        string = string[:-2]\n",
    "    return string"
   ]
  },
  {
   "cell_type": "markdown",
   "metadata": {
    "deletable": true,
    "editable": true
   },
   "source": [
    "__More possible features:__\n",
    "* avarage text/word length in characters per Tweet\n",
    "* known entitiy count\n",
    "* noun frequency\n",
    "* POS Tag frequency\n",
    "* stop word frequency\n",
    "* punctuation frequency\n",
    "* tweet sentiment\n",
    "* you word list"
   ]
  },
  {
   "cell_type": "code",
   "execution_count": null,
   "metadata": {
    "collapsed": true
   },
   "outputs": [],
   "source": []
  },
  {
   "cell_type": "code",
   "execution_count": 31,
   "metadata": {
    "collapsed": false,
    "deletable": true,
    "editable": true
   },
   "outputs": [
    {
     "name": "stdout",
     "output_type": "stream",
     "text": [
      "(2459, 7405)\n"
     ]
    }
   ],
   "source": [
    "from sklearn.feature_extraction.text import CountVectorizer\n",
    "\n",
    "'''\n",
    "input=u'content', strip_accents=None, ngram_range=(1, 1) -> all ngrams between (inclusive)\n",
    "analyzer=u'word' -> {‘word’, ‘char’, ‘char_wb’}\n",
    "preprocessor=None, tokenizer=None, stop_words=None, token_pattern=u'(?u)\\b\\w\\w+\\b', \n",
    "'''\n",
    "# there is a difference in feature dimension(100) if i use my tokenizer vs. the build in one??????\n",
    "count_vectorizer = CountVectorizer(preprocessor=preprocess, tokenizer=tokenize)\n",
    "cb_feat_postText_word_onegram = count_vectorizer.fit_transform(cb_feat_postText)\n",
    "print(cb_feat_postText_word_onegram.shape) # 2459, 8095"
   ]
  },
  {
   "cell_type": "markdown",
   "metadata": {
    "deletable": true,
    "editable": true
   },
   "source": [
    "__Learn from the extracted features from here on__"
   ]
  },
  {
   "cell_type": "code",
   "execution_count": 27,
   "metadata": {
    "collapsed": true,
    "deletable": true,
    "editable": true
   },
   "outputs": [],
   "source": [
    "from sklearn.model_selection import train_test_split\n",
    "\n",
    "# split x,y dataset in train/test:\n",
    "x_train, x_test, y_train, y_test = train_test_split(cb_feat_postText_word_onegram, cb_scores.T, random_state=42)"
   ]
  },
  {
   "cell_type": "code",
   "execution_count": 28,
   "metadata": {
    "collapsed": false,
    "deletable": true,
    "editable": true
   },
   "outputs": [
    {
     "name": "stdout",
     "output_type": "stream",
     "text": [
      "Explained variance score: 0.234685725047\n",
      "Mean squared error: 0.0430289501807\n",
      "Mean absolute error: 0.166686182348\n",
      "Median absolute error: 0.140000002\n",
      "R^2: 0.217841248945\n",
      "cross_val 0.193093162876 +- 0.0318171250821\n"
     ]
    }
   ],
   "source": [
    "# model evaluation\n",
    "from sklearn.metrics import explained_variance_score\n",
    "from sklearn.metrics import mean_squared_error\n",
    "from sklearn.metrics import mean_absolute_error\n",
    "from sklearn.metrics import median_absolute_error\n",
    "from sklearn.metrics import r2_score\n",
    "from sklearn.ensemble import RandomForestRegressor\n",
    "from sklearn.model_selection import cross_val_score\n",
    "\n",
    "model = RandomForestRegressor()\n",
    "model.fit(x_train, y_train)\n",
    "\n",
    "y_predicted = model.predict(x_test)\n",
    "\n",
    "# NOTE: mean square is bullshit if values are < 1\n",
    "\n",
    "print(\"Explained variance score: \" + str(explained_variance_score(y_test, y_predicted)))  # lower means: accounts less for variance in data\n",
    "print(\"Mean squared error: \" + str(mean_squared_error(y_test, y_predicted)))  # how close does the model get on average\n",
    "print(\"Mean absolute error: \" + str(mean_absolute_error(y_test, y_predicted)))  # are we biased?\n",
    "print(\"Median absolute error: \" + str(median_absolute_error(y_test, y_predicted)))  # outliers?\n",
    "print(\"R^2: \" + str(r2_score(y_test, y_predicted)))  # future predictions\n",
    "\n",
    "score = cross_val_score(model, x_train, y_train, cv=5)\n",
    "print(\"cross_val \" + str(score.mean()) + \" +- \" + str(score.std()))\n"
   ]
  }
 ],
 "metadata": {
  "kernelspec": {
   "display_name": "Python 3",
   "language": "python",
   "name": "python3"
  },
  "language_info": {
   "codemirror_mode": {
    "name": "ipython",
    "version": 3
   },
   "file_extension": ".py",
   "mimetype": "text/x-python",
   "name": "python",
   "nbconvert_exporter": "python",
   "pygments_lexer": "ipython3",
   "version": "3.5.2"
  }
 },
 "nbformat": 4,
 "nbformat_minor": 2
}
