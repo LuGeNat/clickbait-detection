{
 "cells": [
  {
   "cell_type": "code",
   "execution_count": 1,
   "metadata": {
    "collapsed": true
   },
   "outputs": [],
   "source": [
    "import json\n",
    "import matplotlib.pyplot as plt\n",
    "import numpy\n",
    "import math\n",
    "import seaborn\n",
    "%matplotlib inline\n",
    "\n",
    "plt.style.use('ggplot')"
   ]
  },
  {
   "cell_type": "code",
   "execution_count": 2,
   "metadata": {
    "collapsed": true
   },
   "outputs": [],
   "source": [
    "INSTANCES_FILE = \"clickbait17-train-170331/instances.jsonl\"\n",
    "TRUTH_FILE     = \"clickbait17-train-170331/truth.jsonl\""
   ]
  },
  {
   "cell_type": "code",
   "execution_count": 3,
   "metadata": {
    "collapsed": true
   },
   "outputs": [],
   "source": [
    "# read thr data from files\n",
    "import json\n",
    "instances = []\n",
    "truth = []\n",
    "\n",
    "with open(INSTANCES_FILE, \"r\") as inf:\n",
    "    instances = [json.loads(x) for x in inf.readlines()]\n",
    "with open(TRUTH_FILE, \"r\") as inf:\n",
    "    truth = [json.loads(x) for x in inf.readlines()]"
   ]
  },
  {
   "cell_type": "code",
   "execution_count": 4,
   "metadata": {
    "collapsed": true
   },
   "outputs": [],
   "source": [
    "# compact relevant data into one list of dicts\n",
    "dataset = {}\n",
    "\n",
    "# lists: postText, targetParagraphs, targetCaptions\n",
    "for i in instances:\n",
    "    dataset[i['id']] = {'postText': i['postText'], 'targetTitle': i['targetTitle'],\n",
    "                        'targetDescription': i['targetDescription'], 'targetKeywords': i['targetKeywords'], \n",
    "                        'targetParagraphs': i['targetParagraphs'], 'targetCaptions': i['targetCaptions']}\n",
    "\n",
    "for t in truth:\n",
    "    dataset[t['id']]['truthMean'] = t['truthMean']\n",
    "\n",
    "# print(list(dataset.keys())[0])\n",
    "# print(dataset[list(dataset.keys())[0]])"
   ]
  },
  {
   "cell_type": "code",
   "execution_count": 5,
   "metadata": {
    "collapsed": true
   },
   "outputs": [],
   "source": [
    "# get feature matrix\n",
    "cb_id_list = numpy.fromiter(iter(dataset.keys()), dtype=numpy.int64)\n",
    "cb_scores_list = []\n",
    "cb_feat_postText = []\n",
    "\n",
    "for i in cb_id_list:\n",
    "    cb_feat_postText.append(dataset[str(i)]['postText'][0])\n",
    "    cb_scores_list.append(dataset[str(i)]['truthMean'])\n",
    "\n",
    "cb_scores = numpy.asarray(cb_scores_list)"
   ]
  },
  {
   "cell_type": "code",
   "execution_count": 6,
   "metadata": {},
   "outputs": [
    {
     "name": "stdout",
     "output_type": "stream",
     "text": [
      "(2459, 7493)\n"
     ]
    }
   ],
   "source": [
    "from sklearn.feature_extraction.text import CountVectorizer\n",
    "\n",
    "'''\n",
    "input=u'content', strip_accents=None, ngram_range=(1, 1) -> all ngrams between (inclusive)\n",
    "analyzer=u'word' -> {‘word’, ‘char’, ‘char_wb’}\n",
    "preprocessor=None, tokenizer=None, stop_words=None, token_pattern=u'(?u)\\b\\w\\w+\\b', \n",
    "'''\n",
    "count_vectorizer = CountVectorizer()\n",
    "cb_feat_postText_word_onegram = count_vectorizer.fit_transform(cb_feat_postText)\n",
    "print(cb_feat_postText_word_onegram.shape)"
   ]
  },
  {
   "cell_type": "code",
   "execution_count": 9,
   "metadata": {
    "collapsed": true
   },
   "outputs": [],
   "source": [
    "# create features for learning\n",
    "from sklearn.model_selection import train_test_split\n",
    "\n",
    "# split x,y dataset in train/test:\n",
    "x_train, x_test, y_train, y_test = train_test_split(cb_feat_postText_word_onegram, cb_scores.T, random_state=0)"
   ]
  },
  {
   "cell_type": "code",
   "execution_count": 10,
   "metadata": {},
   "outputs": [
    {
     "name": "stdout",
     "output_type": "stream",
     "text": [
      "Explained variance score: 0.193781134777\n",
      "Mean squared error: 0.0435752720845\n",
      "Mean absolute error: 0.164851726352\n",
      "Median absolute error: 0.140000003\n",
      "R^2: 0.176820714987\n",
      "cross_val 0.126930129933 +- 0.043693390432\n"
     ]
    }
   ],
   "source": [
    "# model evaluation\n",
    "from sklearn.metrics import explained_variance_score\n",
    "from sklearn.metrics import mean_squared_error\n",
    "from sklearn.metrics import mean_absolute_error\n",
    "from sklearn.metrics import median_absolute_error\n",
    "from sklearn.metrics import r2_score\n",
    "from sklearn.ensemble import RandomForestRegressor\n",
    "from sklearn.model_selection import cross_val_score\n",
    "\n",
    "model = RandomForestRegressor()\n",
    "model.fit(x_train, y_train)\n",
    "\n",
    "y_predicted = model.predict(x_test)\n",
    "\n",
    "print(\"Explained variance score: \" + str(explained_variance_score(y_test, y_predicted)))  # lower means: accounts less for variance in data\n",
    "print(\"Mean squared error: \" + str(mean_squared_error(y_test, y_predicted)))  # how close does the model get on average\n",
    "print(\"Mean absolute error: \" + str(mean_absolute_error(y_test, y_predicted)))  # are we biased?\n",
    "print(\"Median absolute error: \" + str(median_absolute_error(y_test, y_predicted)))  # outliers?\n",
    "print(\"R^2: \" + str(r2_score(y_test, y_predicted)))  # future predictions\n",
    "\n",
    "score = cross_val_score(model, x_train, y_train, cv=5)\n",
    "print(\"cross_val \" + str(score.mean()) + \" +- \" + str(score.std()))\n"
   ]
  }
 ],
 "metadata": {
  "kernelspec": {
   "display_name": "Python 3",
   "language": "python",
   "name": "python3"
  },
  "language_info": {
   "codemirror_mode": {
    "name": "ipython",
    "version": 3
   },
   "file_extension": ".py",
   "mimetype": "text/x-python",
   "name": "python",
   "nbconvert_exporter": "python",
   "pygments_lexer": "ipython3",
   "version": "3.6.0"
  }
 },
 "nbformat": 4,
 "nbformat_minor": 2
}
